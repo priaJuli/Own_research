{
  "nbformat": 4,
  "nbformat_minor": 0,
  "metadata": {
    "colab": {
      "provenance": [],
      "authorship_tag": "ABX9TyN9jIJgqwePpRueN7T4yBSP",
      "include_colab_link": true
    },
    "kernelspec": {
      "name": "python3",
      "display_name": "Python 3"
    },
    "language_info": {
      "name": "python"
    }
  },
  "cells": [
    {
      "cell_type": "markdown",
      "metadata": {
        "id": "view-in-github",
        "colab_type": "text"
      },
      "source": [
        "<a href=\"https://colab.research.google.com/github/priaJuli/Own_research/blob/main/Best_SF_Cancer_Wincosin.ipynb\" target=\"_parent\"><img src=\"https://colab.research.google.com/assets/colab-badge.svg\" alt=\"Open In Colab\"/></a>"
      ]
    },
    {
      "cell_type": "markdown",
      "source": [
        "# Data Gathering"
      ],
      "metadata": {
        "id": "w7oSdoDrrEJM"
      }
    },
    {
      "cell_type": "markdown",
      "source": [
        "datasources\n",
        "\n",
        "https://www.kaggle.com/datasets/uciml/breast-cancer-wisconsin-data"
      ],
      "metadata": {
        "id": "9lhZc9XzXKbx"
      }
    },
    {
      "cell_type": "markdown",
      "source": [
        "### Prepare packages used"
      ],
      "metadata": {
        "id": "4ymQh1eSujFn"
      }
    },
    {
      "cell_type": "code",
      "source": [
        "import pandas as pd\n",
        "import numpy as np\n",
        "from sklearn.preprocessing import LabelBinarizer, StandardScaler, MinMaxScaler\n",
        "\n",
        "from sklearn.model_selection import ShuffleSplit, cross_validate, train_test_split\n",
        "\n",
        "from sklearn.neural_network import MLPClassifier\n",
        "from sklearn.svm import LinearSVC\n",
        "from sklearn.linear_model import LogisticRegression\n",
        "from sklearn.ensemble import RandomForestClassifier\n",
        "\n",
        "from sklearn.pipeline import Pipeline\n",
        "\n",
        "import matplotlib.pyplot as plt\n"
      ],
      "metadata": {
        "id": "kzEmiBXRunHG"
      },
      "execution_count": 1,
      "outputs": []
    },
    {
      "cell_type": "markdown",
      "source": [
        "### Load pandas dataframe"
      ],
      "metadata": {
        "id": "BqslT5XOuprG"
      }
    },
    {
      "cell_type": "code",
      "source": [
        "\n",
        "from sklearn.datasets import load_breast_cancer\n",
        "\n",
        "databc = load_breast_cancer(as_frame=True)\n",
        "\n",
        "dataX = databc.data\n",
        "\n",
        "targetY = databc.target\n",
        "\n",
        "databc.target_names\n",
        "# path_data = \"/content/gdrive/MyDrive/dataset/data.csv\"\n",
        "\n",
        "## Loading data\n",
        "# df = pd.read_csv(path_data, sep=',')\n",
        "\n",
        "# df.head()\n"
      ],
      "metadata": {
        "id": "teWPFWssYJVi",
        "colab": {
          "base_uri": "https://localhost:8080/"
        },
        "outputId": "d27f03b2-fcb0-4f15-f706-0cde1c6f8f1e"
      },
      "execution_count": 2,
      "outputs": [
        {
          "output_type": "execute_result",
          "data": {
            "text/plain": [
              "array(['malignant', 'benign'], dtype='<U9')"
            ]
          },
          "metadata": {},
          "execution_count": 2
        }
      ]
    },
    {
      "cell_type": "code",
      "source": [
        "class_dist = {'Malignant': np.unique(targetY, return_counts=True)[1][0], 'Benign': np.unique(targetY, return_counts=True)[1][1]}\n",
        "\n",
        "# class_dist.values()"
      ],
      "metadata": {
        "id": "sCz-RpvPhOCw"
      },
      "execution_count": 3,
      "outputs": []
    },
    {
      "cell_type": "code",
      "source": [
        "fig, ax = plt.subplots()\n",
        "width = 0.75\n",
        "\n",
        "ind = np.arange(len(class_dist.values()))\n",
        "\n",
        "ax.barh(databc.target_names, class_dist.values(), color = \"blue\")\n",
        "\n",
        "for i, v in enumerate(class_dist.values()):\n",
        "    ax.text(v + 3, i + .25, str(v),\n",
        "            color = 'blue', fontweight = 'bold')\n",
        "plt.show()"
      ],
      "metadata": {
        "colab": {
          "base_uri": "https://localhost:8080/",
          "height": 430
        },
        "id": "1nfOPJ6wjwab",
        "outputId": "3c93ce25-6a2d-404e-a364-d35f0a78a474"
      },
      "execution_count": 4,
      "outputs": [
        {
          "output_type": "display_data",
          "data": {
            "text/plain": [
              "<Figure size 640x480 with 1 Axes>"
            ],
            "image/png": "[encoded data removed]"
          },
          "metadata": {}
        }
      ]
    },
    {
      "cell_type": "code",
      "source": [
        "databc.feature_names"
      ],
      "metadata": {
        "colab": {
          "base_uri": "https://localhost:8080/"
        },
        "id": "MwlIibPdgEtZ",
        "outputId": "0d999161-568e-423b-bb9d-3e847b25d507"
      },
      "execution_count": 5,
      "outputs": [
        {
          "output_type": "execute_result",
          "data": {
            "text/plain": [
              "array(['mean radius', 'mean texture', 'mean perimeter', 'mean area',\n",
              "       'mean smoothness', 'mean compactness', 'mean concavity',\n",
              "       'mean concave points', 'mean symmetry', 'mean fractal dimension',\n",
              "       'radius error', 'texture error', 'perimeter error', 'area error',\n",
              "       'smoothness error', 'compactness error', 'concavity error',\n",
              "       'concave points error', 'symmetry error',\n",
              "       'fractal dimension error', 'worst radius', 'worst texture',\n",
              "       'worst perimeter', 'worst area', 'worst smoothness',\n",
              "       'worst compactness', 'worst concavity', 'worst concave points',\n",
              "       'worst symmetry', 'worst fractal dimension'], dtype='<U23')"
            ]
          },
          "metadata": {},
          "execution_count": 5
        }
      ]
    },
    {
      "cell_type": "markdown",
      "source": [
        "## Define Functions for Features Selection (FS)\n",
        "\n"
      ],
      "metadata": {
        "id": "vCkYYfJfv0eV"
      }
    },
    {
      "cell_type": "code",
      "source": [
        "from sklearn.preprocessing import StandardScaler\n",
        "from sklearn.svm import SVC\n",
        "from sklearn.pipeline import make_pipeline\n",
        "from sklearn.model_selection import cross_validate, StratifiedShuffleSplit\n",
        "\n",
        "def get_subsets(keysf, df):\n",
        "    dicts = dict()\n",
        "    for onekeys in keysf:\n",
        "        dicts[onekeys] = df[onekeys]\n",
        "    return pd.DataFrame(dicts)\n",
        "\n",
        "def cross_validate_subsets(df, keysf, targetY):\n",
        "    dataX = get_subsets(keysf, df)\n",
        "\n",
        "    sss = StratifiedShuffleSplit(n_splits=5, test_size=0.2, random_state=1)\n",
        "\n",
        "    clf = make_pipeline(StandardScaler(), SVC(gamma='auto'))\n",
        "    # clf.fit(dataX, targetY)\n",
        "\n",
        "    cv_res = cross_validate(clf, dataX, targetY, cv=sss)\n",
        "\n",
        "    return cv_res\n",
        "\n",
        "def RFcross_validate_subsets(df, keysf, targetY):\n",
        "    dataX = get_subsets(keysf, df)\n",
        "\n",
        "    sss = StratifiedShuffleSplit(n_splits=5, test_size=0.2, random_state=1)\n",
        "\n",
        "    clf = make_pipeline(StandardScaler(), RandomForestClassifier(n_estimators=100))\n",
        "    # clf.fit(dataX, targetY)\n",
        "\n",
        "    cv_res = cross_validate(clf, dataX, targetY, cv=sss)\n",
        "\n",
        "    return cv_res\n",
        "\n",
        "\n",
        "# subsetsOne = get_subsets(feats_count.keys(), dataX)\n",
        "\n"
      ],
      "metadata": {
        "id": "Tn9_igseMEAe"
      },
      "execution_count": 6,
      "outputs": []
    },
    {
      "cell_type": "markdown",
      "source": [
        "Try gets 20 features"
      ],
      "metadata": {
        "id": "1_zLPR3JnxRx"
      }
    },
    {
      "cell_type": "code",
      "source": [],
      "metadata": {
        "id": "K1wgcF2H5454"
      },
      "execution_count": 6,
      "outputs": []
    },
    {
      "cell_type": "code",
      "source": [
        "from sklearn import feature_selection as SkFS\n",
        "\n",
        "feats_number = 20\n",
        "alphax = 0.5\n",
        "percentile = 66\n",
        "\n",
        "uniques_feats = []\n",
        "feats_count = {}"
      ],
      "metadata": {
        "id": "8Jn_j06Lp4lS"
      },
      "execution_count": 7,
      "outputs": []
    },
    {
      "cell_type": "code",
      "source": [
        "\n",
        "Fs = SkFS.GenericUnivariateSelect(SkFS.chi2, mode='k_best', param=feats_number)\n",
        "\n",
        "Xnew1 = Fs.fit_transform(dataX, targetY)\n",
        "\n",
        "Feats1 = Fs.get_feature_names_out()\n",
        "\n",
        "print(Xnew1.shape)"
      ],
      "metadata": {
        "colab": {
          "base_uri": "https://localhost:8080/"
        },
        "id": "T7bMrwUTmFS7",
        "outputId": "69d489a3-06cf-438c-b773-5384ce2f534f"
      },
      "execution_count": 8,
      "outputs": [
        {
          "output_type": "stream",
          "name": "stdout",
          "text": [
            "(569, 20)\n"
          ]
        }
      ]
    },
    {
      "cell_type": "code",
      "source": [
        "print(len(Feats1))\n",
        "for fname in Feats1:\n",
        "    uniques_feats.append(fname)\n",
        "    if fname in feats_count.keys():\n",
        "        feats_count[fname] += 1\n",
        "    else:\n",
        "        feats_count[fname] = 1"
      ],
      "metadata": {
        "colab": {
          "base_uri": "https://localhost:8080/"
        },
        "id": "Dv0FroV66Jte",
        "outputId": "83ea3983-a892-4835-b018-d10cb8afca43"
      },
      "execution_count": 9,
      "outputs": [
        {
          "output_type": "stream",
          "name": "stdout",
          "text": [
            "20\n"
          ]
        }
      ]
    },
    {
      "cell_type": "code",
      "source": [
        "cross_resrf = RFcross_validate_subsets(dataX, Feats1, targetY)\n",
        "\n",
        "cross_res = cross_validate_subsets(dataX, Feats1, targetY)\n",
        "\n",
        "print(\"RF cross validate\", np.mean(cross_resrf['test_score']) * 100)\n",
        "\n",
        "print(\"SVM cross validate\", np.mean(cross_res['test_score']) * 100)"
      ],
      "metadata": {
        "colab": {
          "base_uri": "https://localhost:8080/"
        },
        "id": "douazjLBM4wk",
        "outputId": "8e7f39ea-704c-4923-a6c5-a4e81a3363b1"
      },
      "execution_count": 10,
      "outputs": [
        {
          "output_type": "stream",
          "name": "stdout",
          "text": [
            "RF cross validate 96.3157894736842\n",
            "SVM cross validate 96.66666666666666\n"
          ]
        }
      ]
    },
    {
      "cell_type": "code",
      "source": [
        "Fs = SkFS.SelectFpr(SkFS.chi2, alpha=alphax)\n",
        "\n",
        "Xnew2 = Fs.fit_transform(dataX, targetY)\n",
        "\n",
        "Feats2 = Fs.get_feature_names_out()\n",
        "\n",
        "print(Xnew2.shape)\n",
        "\n",
        "print(len(Feats2))\n",
        "for fname in Feats2:\n",
        "    uniques_feats.append(fname)\n",
        "    if fname in feats_count.keys():\n",
        "        feats_count[fname] += 1\n",
        "    else:\n",
        "        feats_count[fname] = 1"
      ],
      "metadata": {
        "colab": {
          "base_uri": "https://localhost:8080/"
        },
        "id": "Zo3TOYJMoAkt",
        "outputId": "78a48b90-5422-43da-8e8b-ce90b59b5788"
      },
      "execution_count": 11,
      "outputs": [
        {
          "output_type": "stream",
          "name": "stdout",
          "text": [
            "(569, 20)\n",
            "20\n"
          ]
        }
      ]
    },
    {
      "cell_type": "code",
      "source": [
        "cross_resrf = RFcross_validate_subsets(dataX, Feats2, targetY)\n",
        "\n",
        "cross_res = cross_validate_subsets(dataX, Feats2, targetY)\n",
        "\n",
        "print(\"RF Cross validate\", np.mean(cross_resrf['test_score']) * 100)\n",
        "\n",
        "print(\"SVM cross validate\", np.mean(cross_res['test_score']) * 100)\n"
      ],
      "metadata": {
        "colab": {
          "base_uri": "https://localhost:8080/"
        },
        "id": "hMEdGTH4NVLM",
        "outputId": "847276ff-d75d-4c7d-b70e-ba8338b62ab9"
      },
      "execution_count": 12,
      "outputs": [
        {
          "output_type": "stream",
          "name": "stdout",
          "text": [
            "RF Cross validate 96.3157894736842\n",
            "SVM cross validate 96.66666666666666\n"
          ]
        }
      ]
    },
    {
      "cell_type": "code",
      "source": [
        "\n",
        "Fs = SkFS.SelectFdr(SkFS.chi2, alpha=alphax)\n",
        "\n",
        "Xnew3 = Fs.fit_transform(dataX, targetY)\n",
        "\n",
        "Feats3 = Fs.get_feature_names_out()\n",
        "\n",
        "print(Xnew3.shape)\n",
        "\n",
        "print(len(Feats3))\n",
        "for fname in Feats3:\n",
        "    uniques_feats.append(fname)\n",
        "    if fname in feats_count.keys():\n",
        "        feats_count[fname] += 1\n",
        "    else:\n",
        "        feats_count[fname] = 1"
      ],
      "metadata": {
        "colab": {
          "base_uri": "https://localhost:8080/"
        },
        "id": "jAS_PFksoREc",
        "outputId": "5a4c7300-91ef-449f-d39f-b3cd1c03b4ed"
      },
      "execution_count": 13,
      "outputs": [
        {
          "output_type": "stream",
          "name": "stdout",
          "text": [
            "(569, 19)\n",
            "19\n"
          ]
        }
      ]
    },
    {
      "cell_type": "code",
      "source": [
        "cross_resrf = RFcross_validate_subsets(dataX, Feats3, targetY)\n",
        "\n",
        "cross_res = cross_validate_subsets(dataX, Feats3, targetY)\n",
        "\n",
        "print(\"RF Cross validate\", np.mean(cross_resrf['test_score']) * 100)\n",
        "\n",
        "print(\"SVM cross validate\", np.mean(cross_res['test_score']) * 100)\n"
      ],
      "metadata": {
        "colab": {
          "base_uri": "https://localhost:8080/"
        },
        "id": "b75yEIo0Nf7P",
        "outputId": "0696384f-6b56-4be0-97eb-0d390ca9ca64"
      },
      "execution_count": 14,
      "outputs": [
        {
          "output_type": "stream",
          "name": "stdout",
          "text": [
            "RF Cross validate 96.49122807017545\n",
            "SVM cross validate 96.84210526315789\n"
          ]
        }
      ]
    },
    {
      "cell_type": "code",
      "source": [
        "\n",
        "Fs4 = SkFS.SelectPercentile(SkFS.chi2, percentile=percentile)\n",
        "\n",
        "Xnew4 = Fs4.fit_transform(dataX, targetY)\n",
        "\n",
        "Feats4 = Fs4.get_feature_names_out()\n",
        "\n",
        "print(Xnew4.shape)\n",
        "\n",
        "print(len(Feats4))\n",
        "for fname in Feats4:\n",
        "    uniques_feats.append(fname)\n",
        "    if fname in feats_count.keys():\n",
        "        feats_count[fname] += 1\n",
        "    else:\n",
        "        feats_count[fname] = 1"
      ],
      "metadata": {
        "colab": {
          "base_uri": "https://localhost:8080/"
        },
        "id": "tVOwTl3XpeWP",
        "outputId": "f4474477-a38b-48d6-cf3b-cd219fc20e67"
      },
      "execution_count": 15,
      "outputs": [
        {
          "output_type": "stream",
          "name": "stdout",
          "text": [
            "(569, 20)\n",
            "20\n"
          ]
        }
      ]
    },
    {
      "cell_type": "code",
      "source": [
        "cross_resrf = RFcross_validate_subsets(dataX, Feats4, targetY)\n",
        "\n",
        "cross_res = cross_validate_subsets(dataX, Feats4, targetY)\n",
        "\n",
        "print(\"RF Cross validate\", np.mean(cross_resrf['test_score']) * 100)\n",
        "\n",
        "print(\"SVM cross validate\", np.mean(cross_res['test_score']) * 100)\n"
      ],
      "metadata": {
        "colab": {
          "base_uri": "https://localhost:8080/"
        },
        "id": "Cc7tr1btNs8_",
        "outputId": "d6945bd0-3d37-47c6-d160-c4ffbb62fcd4"
      },
      "execution_count": 16,
      "outputs": [
        {
          "output_type": "stream",
          "name": "stdout",
          "text": [
            "RF Cross validate 96.3157894736842\n",
            "SVM cross validate 96.66666666666666\n"
          ]
        }
      ]
    },
    {
      "cell_type": "code",
      "source": [
        "Fs5 = SkFS.VarianceThreshold()\n",
        "\n",
        "Xnew5 = Fs5.fit_transform(dataX, targetY)\n",
        "\n",
        "Feats5 = Fs5.get_feature_names_out()\n",
        "\n",
        "print(Xnew5.shape)\n",
        "\n",
        "print(len(Feats5))\n",
        "for fname in Feats5:\n",
        "    uniques_feats.append(fname)\n",
        "    if fname in feats_count.keys():\n",
        "        feats_count[fname] += 1\n",
        "    else:\n",
        "        feats_count[fname] = 1"
      ],
      "metadata": {
        "colab": {
          "base_uri": "https://localhost:8080/"
        },
        "id": "FVlVv7P2py-u",
        "outputId": "32ec9d49-b021-4144-9919-4b0f56d9cf6a"
      },
      "execution_count": 17,
      "outputs": [
        {
          "output_type": "stream",
          "name": "stdout",
          "text": [
            "(569, 30)\n",
            "30\n"
          ]
        }
      ]
    },
    {
      "cell_type": "code",
      "source": [
        "cross_resrf = RFcross_validate_subsets(dataX, Feats5, targetY)\n",
        "\n",
        "cross_res = cross_validate_subsets(dataX, Feats5, targetY)\n",
        "\n",
        "print(\"RF Cross validate\", np.mean(cross_resrf['test_score']) * 100)\n",
        "\n",
        "print(\"SVM cross validate\", np.mean(cross_res['test_score']) * 100)\n"
      ],
      "metadata": {
        "colab": {
          "base_uri": "https://localhost:8080/"
        },
        "id": "7pcBOWtbNxP9",
        "outputId": "bceed7ce-d6b6-4216-e1f6-e4449f6df9f6"
      },
      "execution_count": 18,
      "outputs": [
        {
          "output_type": "stream",
          "name": "stdout",
          "text": [
            "RF Cross validate 95.78947368421052\n",
            "SVM cross validate 97.19298245614034\n"
          ]
        }
      ]
    },
    {
      "cell_type": "code",
      "source": [
        "FsM1 = SkFS.SelectFromModel(estimator=RandomForestClassifier(n_estimators=100))\n",
        "\n",
        "XnewM1 = FsM1.fit_transform(dataX, targetY)\n",
        "\n",
        "FeatsM1 = FsM1.get_feature_names_out()\n",
        "\n",
        "print(XnewM1.shape)\n",
        "\n",
        "print(len(FeatsM1))\n",
        "for fname in FeatsM1:\n",
        "    uniques_feats.append(fname)\n",
        "    if fname in feats_count.keys():\n",
        "        feats_count[fname] += 1\n",
        "    else:\n",
        "        feats_count[fname] = 1"
      ],
      "metadata": {
        "colab": {
          "base_uri": "https://localhost:8080/"
        },
        "id": "daA0LM5HrLcj",
        "outputId": "63694ac2-4ff1-449c-a71c-451a457ea44f"
      },
      "execution_count": 19,
      "outputs": [
        {
          "output_type": "stream",
          "name": "stdout",
          "text": [
            "(569, 10)\n",
            "10\n"
          ]
        }
      ]
    },
    {
      "cell_type": "code",
      "source": [
        "cross_resrf = RFcross_validate_subsets(dataX, FeatsM1, targetY)\n",
        "\n",
        "cross_res = cross_validate_subsets(dataX, FeatsM1, targetY)\n",
        "\n",
        "print(\"RF Cross validate\", np.mean(cross_resrf['test_score']) * 100)\n",
        "\n",
        "print(\"SVM cross validate\", np.mean(cross_res['test_score']) * 100)\n"
      ],
      "metadata": {
        "colab": {
          "base_uri": "https://localhost:8080/"
        },
        "id": "5_z59FZwN1GJ",
        "outputId": "da8800d9-4c57-4567-ca90-af704b1959e8"
      },
      "execution_count": 20,
      "outputs": [
        {
          "output_type": "stream",
          "name": "stdout",
          "text": [
            "RF Cross validate 95.6140350877193\n",
            "SVM cross validate 95.96491228070174\n"
          ]
        }
      ]
    },
    {
      "cell_type": "code",
      "source": [
        "FsM1 = SkFS.SelectFromModel(estimator=LinearSVC(random_state=0, tol=1e-5))\n",
        "\n",
        "XnewM1 = FsM1.fit_transform(dataX, targetY)\n",
        "\n",
        "FeatsM1 = FsM1.get_feature_names_out()\n",
        "\n",
        "print(XnewM1.shape)\n",
        "\n",
        "print(len(FeatsM1))\n",
        "for fname in FeatsM1:\n",
        "    uniques_feats.append(fname)\n",
        "    if fname in feats_count.keys():\n",
        "        feats_count[fname] += 1\n",
        "    else:\n",
        "        feats_count[fname] = 1"
      ],
      "metadata": {
        "id": "zd_Q04kys5Lu",
        "colab": {
          "base_uri": "https://localhost:8080/"
        },
        "outputId": "f7f2c406-1c89-47f0-a81d-aa29a5e84cf7"
      },
      "execution_count": 21,
      "outputs": [
        {
          "output_type": "stream",
          "name": "stdout",
          "text": [
            "(569, 8)\n",
            "8\n"
          ]
        },
        {
          "output_type": "stream",
          "name": "stderr",
          "text": [
            "/usr/local/lib/python3.10/dist-packages/sklearn/svm/_base.py:1244: ConvergenceWarning: Liblinear failed to converge, increase the number of iterations.\n",
            "  warnings.warn(\n"
          ]
        }
      ]
    },
    {
      "cell_type": "code",
      "source": [
        "cross_resrf = RFcross_validate_subsets(dataX, FeatsM1, targetY)\n",
        "\n",
        "cross_res = cross_validate_subsets(dataX, FeatsM1, targetY)\n",
        "\n",
        "print(\"RF Cross validate\", np.mean(cross_resrf['test_score']) * 100)\n",
        "\n",
        "print(\"SVM cross validate\", np.mean(cross_res['test_score']) * 100)\n"
      ],
      "metadata": {
        "colab": {
          "base_uri": "https://localhost:8080/"
        },
        "id": "_IAyMgAuN6lS",
        "outputId": "e8553ed0-601f-47bd-ba25-476780fb4323"
      },
      "execution_count": 22,
      "outputs": [
        {
          "output_type": "stream",
          "name": "stdout",
          "text": [
            "RF Cross validate 95.43859649122807\n",
            "SVM cross validate 96.3157894736842\n"
          ]
        }
      ]
    },
    {
      "cell_type": "code",
      "source": [
        "np.unique(uniques_feats, return_counts=True)"
      ],
      "metadata": {
        "colab": {
          "base_uri": "https://localhost:8080/"
        },
        "id": "yLenrGDx9lXx",
        "outputId": "7ec93c01-f2c5-490a-dfc3-48013c03be4e"
      },
      "execution_count": 23,
      "outputs": [
        {
          "output_type": "execute_result",
          "data": {
            "text/plain": [
              "(array(['area error', 'compactness error', 'concave points error',\n",
              "        'concavity error', 'fractal dimension error', 'mean area',\n",
              "        'mean compactness', 'mean concave points', 'mean concavity',\n",
              "        'mean fractal dimension', 'mean perimeter', 'mean radius',\n",
              "        'mean smoothness', 'mean symmetry', 'mean texture',\n",
              "        'perimeter error', 'radius error', 'smoothness error',\n",
              "        'symmetry error', 'texture error', 'worst area',\n",
              "        'worst compactness', 'worst concave points', 'worst concavity',\n",
              "        'worst fractal dimension', 'worst perimeter', 'worst radius',\n",
              "        'worst smoothness', 'worst symmetry', 'worst texture'],\n",
              "       dtype='<U23'),\n",
              " array([5, 4, 1, 5, 1, 6, 5, 6, 6, 1, 7, 7, 1, 1, 6, 5, 5, 1, 1, 1, 6, 6,\n",
              "        6, 7, 1, 7, 7, 1, 5, 6]))"
            ]
          },
          "metadata": {},
          "execution_count": 23
        }
      ]
    },
    {
      "cell_type": "code",
      "source": [
        "len(np.unique(uniques_feats))"
      ],
      "metadata": {
        "colab": {
          "base_uri": "https://localhost:8080/"
        },
        "id": "9wmHPghm9vc6",
        "outputId": "ca10d4ff-f2fa-406a-8a9d-d39788c155d5"
      },
      "execution_count": 24,
      "outputs": [
        {
          "output_type": "execute_result",
          "data": {
            "text/plain": [
              "30"
            ]
          },
          "metadata": {},
          "execution_count": 24
        }
      ]
    },
    {
      "cell_type": "code",
      "source": [
        "totalsc = sum(feats_count.values())\n"
      ],
      "metadata": {
        "id": "uYdj0w1E-ku1"
      },
      "execution_count": 25,
      "outputs": []
    },
    {
      "cell_type": "code",
      "source": [
        "weights_feats = {}\n",
        "for keysf in feats_count.keys():\n",
        "    weights_feats[keysf] = feats_count[keysf]/totalsc"
      ],
      "metadata": {
        "id": "CyGEt9fu_4x4"
      },
      "execution_count": 26,
      "outputs": []
    },
    {
      "cell_type": "code",
      "source": [
        "cross_resrf = RFcross_validate_subsets(dataX, feats_count.keys(), targetY)\n",
        "\n",
        "cross_res = cross_validate_subsets(dataX, feats_count.keys(), targetY)\n",
        "\n",
        "print(\"RF Cross validate\", np.mean(cross_resrf['test_score']) * 100)\n",
        "\n",
        "print(\"SVM cross validate\", np.mean(cross_res['test_score']) * 100)\n"
      ],
      "metadata": {
        "colab": {
          "base_uri": "https://localhost:8080/"
        },
        "id": "YtacPWLMAg7Y",
        "outputId": "0a9afbcd-c542-4d01-baeb-b0c392e82246"
      },
      "execution_count": 27,
      "outputs": [
        {
          "output_type": "stream",
          "name": "stdout",
          "text": [
            "RF Cross validate 96.14035087719299\n",
            "SVM cross validate 97.19298245614034\n"
          ]
        }
      ]
    },
    {
      "cell_type": "code",
      "source": [
        "# sample_weights =  [i for i in weights_feats.values()]\n",
        "\n",
        "# sample_weights = np.array(sample_weights).reshape(-1, 1)"
      ],
      "metadata": {
        "id": "7XXs8Tw6BmA_"
      },
      "execution_count": 28,
      "outputs": []
    },
    {
      "cell_type": "markdown",
      "source": [
        "# Conclusion\n",
        "\n",
        "For the case of Winconsin Breast Cancer, feature selection is not usefull for training machine learning, with standard scaler is outperformed the feature selection algorithms."
      ],
      "metadata": {
        "id": "qFyZce4UVP_0"
      }
    },
    {
      "cell_type": "code",
      "source": [],
      "metadata": {
        "id": "vze9mquvWL51"
      },
      "execution_count": 28,
      "outputs": []
    }
  ]
}